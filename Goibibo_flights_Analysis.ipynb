{
 "cells": [
  {
   "cell_type": "code",
   "execution_count": 1,
   "id": "9f16af3f",
   "metadata": {},
   "outputs": [],
   "source": [
    "import pandas as pd\n",
    "import numpy as np\n",
    "import matplotlib.pyplot as plt\n",
    "import seaborn as sns\n",
    "import datetime as dt"
   ]
  },
  {
   "cell_type": "code",
   "execution_count": 2,
   "id": "00b06f68",
   "metadata": {},
   "outputs": [],
   "source": [
    "df = pd.read_csv('........./goibibo_flights.csv')"
   ]
  },
  {
   "cell_type": "code",
   "execution_count": 3,
   "id": "f34e9f58",
   "metadata": {},
   "outputs": [
    {
     "data": {
      "text/html": [
       "<div>\n",
       "<style scoped>\n",
       "    .dataframe tbody tr th:only-of-type {\n",
       "        vertical-align: middle;\n",
       "    }\n",
       "\n",
       "    .dataframe tbody tr th {\n",
       "        vertical-align: top;\n",
       "    }\n",
       "\n",
       "    .dataframe thead th {\n",
       "        text-align: right;\n",
       "    }\n",
       "</style>\n",
       "<table border=\"1\" class=\"dataframe\">\n",
       "  <thead>\n",
       "    <tr style=\"text-align: right;\">\n",
       "      <th></th>\n",
       "      <th>flight date</th>\n",
       "      <th>airline</th>\n",
       "      <th>flight_num</th>\n",
       "      <th>class</th>\n",
       "      <th>from</th>\n",
       "      <th>dep_time</th>\n",
       "      <th>to</th>\n",
       "      <th>arr_time</th>\n",
       "      <th>duration</th>\n",
       "      <th>price</th>\n",
       "      <th>stops</th>\n",
       "      <th>Unnamed: 11</th>\n",
       "      <th>Unnamed: 12</th>\n",
       "    </tr>\n",
       "  </thead>\n",
       "  <tbody>\n",
       "    <tr>\n",
       "      <th>0</th>\n",
       "      <td>26-06-2023</td>\n",
       "      <td>SpiceJet</td>\n",
       "      <td>SG-8709</td>\n",
       "      <td>economy</td>\n",
       "      <td>Delhi</td>\n",
       "      <td>18:55</td>\n",
       "      <td>Mumbai</td>\n",
       "      <td>21:05</td>\n",
       "      <td>02h 10m</td>\n",
       "      <td>6,013</td>\n",
       "      <td>non-stop</td>\n",
       "      <td>NaN</td>\n",
       "      <td>NaN</td>\n",
       "    </tr>\n",
       "    <tr>\n",
       "      <th>1</th>\n",
       "      <td>26-06-2023</td>\n",
       "      <td>SpiceJet</td>\n",
       "      <td>SG-8157</td>\n",
       "      <td>economy</td>\n",
       "      <td>Delhi</td>\n",
       "      <td>06:20</td>\n",
       "      <td>Mumbai</td>\n",
       "      <td>08:40</td>\n",
       "      <td>02h 20m</td>\n",
       "      <td>6,013</td>\n",
       "      <td>non-stop</td>\n",
       "      <td>NaN</td>\n",
       "      <td>NaN</td>\n",
       "    </tr>\n",
       "    <tr>\n",
       "      <th>2</th>\n",
       "      <td>26-06-2023</td>\n",
       "      <td>AirAsia</td>\n",
       "      <td>I5-764</td>\n",
       "      <td>economy</td>\n",
       "      <td>Delhi</td>\n",
       "      <td>04:25</td>\n",
       "      <td>Mumbai</td>\n",
       "      <td>06:35</td>\n",
       "      <td>02h 10m</td>\n",
       "      <td>6,016</td>\n",
       "      <td>non-stop</td>\n",
       "      <td>NaN</td>\n",
       "      <td>NaN</td>\n",
       "    </tr>\n",
       "    <tr>\n",
       "      <th>3</th>\n",
       "      <td>26-06-2023</td>\n",
       "      <td>Vistara</td>\n",
       "      <td>UK-995</td>\n",
       "      <td>economy</td>\n",
       "      <td>Delhi</td>\n",
       "      <td>10:20</td>\n",
       "      <td>Mumbai</td>\n",
       "      <td>12:35</td>\n",
       "      <td>02h 15m</td>\n",
       "      <td>6,015</td>\n",
       "      <td>non-stop</td>\n",
       "      <td>NaN</td>\n",
       "      <td>NaN</td>\n",
       "    </tr>\n",
       "    <tr>\n",
       "      <th>4</th>\n",
       "      <td>26-06-2023</td>\n",
       "      <td>Vistara</td>\n",
       "      <td>UK-963</td>\n",
       "      <td>economy</td>\n",
       "      <td>Delhi</td>\n",
       "      <td>08:50</td>\n",
       "      <td>Mumbai</td>\n",
       "      <td>11:10</td>\n",
       "      <td>02h 20m</td>\n",
       "      <td>6,015</td>\n",
       "      <td>non-stop</td>\n",
       "      <td>NaN</td>\n",
       "      <td>NaN</td>\n",
       "    </tr>\n",
       "  </tbody>\n",
       "</table>\n",
       "</div>"
      ],
      "text/plain": [
       "  flight date   airline flight_num    class   from dep_time      to arr_time  \\\n",
       "0  26-06-2023  SpiceJet    SG-8709  economy  Delhi    18:55  Mumbai    21:05   \n",
       "1  26-06-2023  SpiceJet    SG-8157  economy  Delhi    06:20  Mumbai    08:40   \n",
       "2  26-06-2023   AirAsia     I5-764  economy  Delhi    04:25  Mumbai    06:35   \n",
       "3  26-06-2023   Vistara     UK-995  economy  Delhi    10:20  Mumbai    12:35   \n",
       "4  26-06-2023   Vistara     UK-963  economy  Delhi    08:50  Mumbai    11:10   \n",
       "\n",
       "  duration  price     stops  Unnamed: 11  Unnamed: 12  \n",
       "0  02h 10m  6,013  non-stop          NaN          NaN  \n",
       "1  02h 20m  6,013  non-stop          NaN          NaN  \n",
       "2  02h 10m  6,016  non-stop          NaN          NaN  \n",
       "3  02h 15m  6,015  non-stop          NaN          NaN  \n",
       "4  02h 20m  6,015  non-stop          NaN          NaN  "
      ]
     },
     "execution_count": 3,
     "metadata": {},
     "output_type": "execute_result"
    }
   ],
   "source": [
    "df.head()"
   ]
  },
  {
   "cell_type": "code",
   "execution_count": 4,
   "id": "9430e6bc",
   "metadata": {},
   "outputs": [
    {
     "name": "stdout",
     "output_type": "stream",
     "text": [
      "<class 'pandas.core.frame.DataFrame'>\n",
      "RangeIndex: 300261 entries, 0 to 300260\n",
      "Data columns (total 13 columns):\n",
      " #   Column       Non-Null Count   Dtype  \n",
      "---  ------       --------------   -----  \n",
      " 0   flight date  300261 non-null  object \n",
      " 1   airline      300261 non-null  object \n",
      " 2   flight_num   300261 non-null  object \n",
      " 3   class        300261 non-null  object \n",
      " 4   from         300261 non-null  object \n",
      " 5   dep_time     300261 non-null  object \n",
      " 6   to           300261 non-null  object \n",
      " 7   arr_time     300261 non-null  object \n",
      " 8   duration     300261 non-null  object \n",
      " 9   price        300261 non-null  object \n",
      " 10  stops        300261 non-null  object \n",
      " 11  Unnamed: 11  0 non-null       float64\n",
      " 12  Unnamed: 12  0 non-null       float64\n",
      "dtypes: float64(2), object(11)\n",
      "memory usage: 205.5 MB\n"
     ]
    }
   ],
   "source": [
    "df.info(memory_usage = 'deep')"
   ]
  },
  {
   "cell_type": "code",
   "execution_count": 5,
   "id": "0169b3fc",
   "metadata": {},
   "outputs": [],
   "source": [
    "df['stops'] = df['stops'].astype('category')\n",
    "df['airline'] = df['airline'].astype('category')\n",
    "df['from'] = df['from'].astype('category')\n",
    "df['to'] = df['to'].astype('category')"
   ]
  },
  {
   "cell_type": "code",
   "execution_count": 6,
   "id": "0851d43a",
   "metadata": {},
   "outputs": [
    {
     "data": {
      "text/plain": [
       "flight date         0\n",
       "airline             0\n",
       "flight_num          0\n",
       "class               0\n",
       "from                0\n",
       "dep_time            0\n",
       "to                  0\n",
       "arr_time            0\n",
       "duration            0\n",
       "price               0\n",
       "stops               0\n",
       "Unnamed: 11    300261\n",
       "Unnamed: 12    300261\n",
       "dtype: int64"
      ]
     },
     "execution_count": 6,
     "metadata": {},
     "output_type": "execute_result"
    }
   ],
   "source": [
    "nan_counts = df.isnull().sum()\n",
    "nan_counts"
   ]
  },
  {
   "cell_type": "code",
   "execution_count": 7,
   "id": "75846b60",
   "metadata": {},
   "outputs": [],
   "source": [
    "df.drop(['Unnamed: 11', 'Unnamed: 12'], axis=1, inplace=True)"
   ]
  },
  {
   "cell_type": "code",
   "execution_count": 8,
   "id": "2ee8b6cf",
   "metadata": {},
   "outputs": [
    {
     "name": "stdout",
     "output_type": "stream",
     "text": [
      "<class 'pandas.core.frame.DataFrame'>\n",
      "RangeIndex: 300261 entries, 0 to 300260\n",
      "Data columns (total 11 columns):\n",
      " #   Column       Non-Null Count   Dtype   \n",
      "---  ------       --------------   -----   \n",
      " 0   flight date  300261 non-null  object  \n",
      " 1   airline      300261 non-null  category\n",
      " 2   flight_num   300261 non-null  object  \n",
      " 3   class        300261 non-null  object  \n",
      " 4   from         300261 non-null  category\n",
      " 5   dep_time     300261 non-null  object  \n",
      " 6   to           300261 non-null  category\n",
      " 7   arr_time     300261 non-null  object  \n",
      " 8   duration     300261 non-null  object  \n",
      " 9   price        300261 non-null  object  \n",
      " 10  stops        300261 non-null  category\n",
      "dtypes: category(4), object(7)\n",
      "memory usage: 128.5 MB\n"
     ]
    }
   ],
   "source": [
    "df.info(memory_usage = 'deep')"
   ]
  },
  {
   "cell_type": "code",
   "execution_count": 9,
   "id": "abf1bb50",
   "metadata": {},
   "outputs": [
    {
     "data": {
      "text/html": [
       "<div>\n",
       "<style scoped>\n",
       "    .dataframe tbody tr th:only-of-type {\n",
       "        vertical-align: middle;\n",
       "    }\n",
       "\n",
       "    .dataframe tbody tr th {\n",
       "        vertical-align: top;\n",
       "    }\n",
       "\n",
       "    .dataframe thead th {\n",
       "        text-align: right;\n",
       "    }\n",
       "</style>\n",
       "<table border=\"1\" class=\"dataframe\">\n",
       "  <thead>\n",
       "    <tr style=\"text-align: right;\">\n",
       "      <th></th>\n",
       "      <th>flight date</th>\n",
       "      <th>airline</th>\n",
       "      <th>flight_num</th>\n",
       "      <th>class</th>\n",
       "      <th>from</th>\n",
       "      <th>dep_time</th>\n",
       "      <th>to</th>\n",
       "      <th>arr_time</th>\n",
       "      <th>duration</th>\n",
       "      <th>price</th>\n",
       "      <th>stops</th>\n",
       "    </tr>\n",
       "  </thead>\n",
       "  <tbody>\n",
       "    <tr>\n",
       "      <th>count</th>\n",
       "      <td>300261</td>\n",
       "      <td>300261</td>\n",
       "      <td>300261</td>\n",
       "      <td>300261</td>\n",
       "      <td>300261</td>\n",
       "      <td>300261</td>\n",
       "      <td>300261</td>\n",
       "      <td>300261</td>\n",
       "      <td>300261</td>\n",
       "      <td>300261</td>\n",
       "      <td>300261</td>\n",
       "    </tr>\n",
       "    <tr>\n",
       "      <th>unique</th>\n",
       "      <td>49</td>\n",
       "      <td>8</td>\n",
       "      <td>1569</td>\n",
       "      <td>2</td>\n",
       "      <td>6</td>\n",
       "      <td>251</td>\n",
       "      <td>6</td>\n",
       "      <td>266</td>\n",
       "      <td>483</td>\n",
       "      <td>12170</td>\n",
       "      <td>40</td>\n",
       "    </tr>\n",
       "    <tr>\n",
       "      <th>top</th>\n",
       "      <td>20-07-2023</td>\n",
       "      <td>Vistara</td>\n",
       "      <td>UK-706</td>\n",
       "      <td>economy</td>\n",
       "      <td>Delhi</td>\n",
       "      <td>07:00</td>\n",
       "      <td>Mumbai</td>\n",
       "      <td>19:55</td>\n",
       "      <td>02h 10m</td>\n",
       "      <td>55,427</td>\n",
       "      <td>1-stop</td>\n",
       "    </tr>\n",
       "    <tr>\n",
       "      <th>freq</th>\n",
       "      <td>6633</td>\n",
       "      <td>127859</td>\n",
       "      <td>3235</td>\n",
       "      <td>206774</td>\n",
       "      <td>61345</td>\n",
       "      <td>8760</td>\n",
       "      <td>59109</td>\n",
       "      <td>9194</td>\n",
       "      <td>4242</td>\n",
       "      <td>1445</td>\n",
       "      <td>243603</td>\n",
       "    </tr>\n",
       "  </tbody>\n",
       "</table>\n",
       "</div>"
      ],
      "text/plain": [
       "       flight date  airline flight_num    class    from dep_time      to  \\\n",
       "count       300261   300261     300261   300261  300261   300261  300261   \n",
       "unique          49        8       1569        2       6      251       6   \n",
       "top     20-07-2023  Vistara     UK-706  economy   Delhi    07:00  Mumbai   \n",
       "freq          6633   127859       3235   206774   61345     8760   59109   \n",
       "\n",
       "       arr_time duration   price   stops  \n",
       "count    300261   300261  300261  300261  \n",
       "unique      266      483   12170      40  \n",
       "top       19:55  02h 10m  55,427  1-stop  \n",
       "freq       9194     4242    1445  243603  "
      ]
     },
     "execution_count": 9,
     "metadata": {},
     "output_type": "execute_result"
    }
   ],
   "source": [
    "df.describe()"
   ]
  },
  {
   "cell_type": "code",
   "execution_count": 10,
   "id": "48d0b0b3",
   "metadata": {},
   "outputs": [
    {
     "data": {
      "text/plain": [
       "8"
      ]
     },
     "execution_count": 10,
     "metadata": {},
     "output_type": "execute_result"
    }
   ],
   "source": [
    "# Number of unique Airlines\n",
    "df[\"airline\"].nunique()"
   ]
  },
  {
   "cell_type": "code",
   "execution_count": 11,
   "id": "6a4841bd",
   "metadata": {},
   "outputs": [
    {
     "data": {
      "text/plain": [
       "Vistara      127859\n",
       "Air India     80894\n",
       "Indigo        43120\n",
       "GO FIRST      23177\n",
       "AirAsia       16098\n",
       "SpiceJet       9011\n",
       "StarAir          61\n",
       "Trujet           41\n",
       "Name: airline, dtype: int64"
      ]
     },
     "execution_count": 11,
     "metadata": {},
     "output_type": "execute_result"
    }
   ],
   "source": [
    "# Count of flights operated by each airline\n",
    "df['airline'].value_counts()"
   ]
  },
  {
   "cell_type": "code",
   "execution_count": 12,
   "id": "e5731931",
   "metadata": {},
   "outputs": [
    {
     "data": {
      "text/plain": [
       "Delhi        61345\n",
       "Mumbai       60903\n",
       "Bangalore    52106\n",
       "Kolkata      46347\n",
       "Hyderabad    40860\n",
       "Chennai      38700\n",
       "Name: from, dtype: int64"
      ]
     },
     "execution_count": 12,
     "metadata": {},
     "output_type": "execute_result"
    }
   ],
   "source": [
    "# Number of fights depart from each city\n",
    "df['from'].value_counts()"
   ]
  },
  {
   "cell_type": "code",
   "execution_count": 13,
   "id": "0b64c6f3",
   "metadata": {},
   "outputs": [],
   "source": [
    "df.dropna(subset=['duration'], inplace=True)"
   ]
  },
  {
   "cell_type": "code",
   "execution_count": 14,
   "id": "67a89d8d",
   "metadata": {},
   "outputs": [],
   "source": [
    "def convert_to_minutes(duration):\n",
    "    try:\n",
    "        if 'h' in duration and 'm' in duration:\n",
    "            hours = int(duration.split('h')[0]) * 60\n",
    "            minutes = int(duration.split(' ')[1].replace('m', ''))\n",
    "            return hours + minutes\n",
    "        elif 'h' in duration:\n",
    "            return int(duration.split('h')[0]) * 60\n",
    "        elif 'm' in duration:\n",
    "            return int(duration.split('m')[0])\n",
    "        else:\n",
    "            return 0 \n",
    "    except ValueError:\n",
    "        return 0  \n",
    "\n",
    "df['duration_minutes'] = df['duration'].apply(convert_to_minutes)\n"
   ]
  },
  {
   "cell_type": "code",
   "execution_count": 15,
   "id": "1a280377",
   "metadata": {},
   "outputs": [
    {
     "name": "stdout",
     "output_type": "stream",
     "text": [
      "airline\n",
      "Air India    930.257745\n",
      "AirAsia      536.489315\n",
      "GO FIRST     525.236441\n",
      "Indigo       347.709416\n",
      "SpiceJet     754.769726\n",
      "StarAir      145.983607\n",
      "Trujet       232.073171\n",
      "Vistara      799.597643\n",
      "Name: duration_minutes, dtype: float64\n"
     ]
    }
   ],
   "source": [
    "average_duration_by_airline = df.groupby('airline')['duration_minutes'].mean()\n",
    "print(average_duration_by_airline)"
   ]
  },
  {
   "cell_type": "code",
   "execution_count": 16,
   "id": "1e2c3051",
   "metadata": {},
   "outputs": [
    {
     "data": {
      "text/plain": [
       "12.004222992663049"
      ]
     },
     "execution_count": 16,
     "metadata": {},
     "output_type": "execute_result"
    }
   ],
   "source": [
    "# Percentage of non-stop flights\n",
    "non_stop_percentage = (df[df['stops'] == 'non-stop'].shape[0] / df.shape[0]) * 100\n",
    "non_stop_percentage"
   ]
  },
  {
   "cell_type": "markdown",
   "id": "1d580ac2",
   "metadata": {},
   "source": [
    "### Date and Time analysis"
   ]
  },
  {
   "cell_type": "code",
   "execution_count": 17,
   "id": "afca6150",
   "metadata": {},
   "outputs": [
    {
     "data": {
      "text/plain": [
       "6     27179\n",
       "7     24174\n",
       "10    23950\n",
       "20    23731\n",
       "9     22167\n",
       "17    19658\n",
       "19    18085\n",
       "21    17788\n",
       "8     16800\n",
       "18    15027\n",
       "12    13604\n",
       "16    12647\n",
       "11    12333\n",
       "13    12142\n",
       "15    10857\n",
       "14    10255\n",
       "5      8269\n",
       "22     5762\n",
       "4      2420\n",
       "23     2223\n",
       "2       619\n",
       "0       303\n",
       "3       170\n",
       "1        98\n",
       "Name: dep_hour, dtype: int64"
      ]
     },
     "execution_count": 17,
     "metadata": {},
     "output_type": "execute_result"
    }
   ],
   "source": [
    "# Distribution of departures by hours\n",
    "df['dep_hour'] = df['dep_time'].apply(lambda x: int(x.split(':')[0]))\n",
    "df['dep_hour'].value_counts()"
   ]
  },
  {
   "cell_type": "code",
   "execution_count": 19,
   "id": "2e231eed",
   "metadata": {},
   "outputs": [
    {
     "data": {
      "text/html": [
       "<div>\n",
       "<style scoped>\n",
       "    .dataframe tbody tr th:only-of-type {\n",
       "        vertical-align: middle;\n",
       "    }\n",
       "\n",
       "    .dataframe tbody tr th {\n",
       "        vertical-align: top;\n",
       "    }\n",
       "\n",
       "    .dataframe thead th {\n",
       "        text-align: right;\n",
       "    }\n",
       "</style>\n",
       "<table border=\"1\" class=\"dataframe\">\n",
       "  <thead>\n",
       "    <tr style=\"text-align: right;\">\n",
       "      <th></th>\n",
       "      <th>flight date</th>\n",
       "      <th>airline</th>\n",
       "      <th>flight_num</th>\n",
       "      <th>class</th>\n",
       "      <th>from</th>\n",
       "      <th>dep_time</th>\n",
       "      <th>to</th>\n",
       "      <th>arr_time</th>\n",
       "      <th>duration</th>\n",
       "      <th>price</th>\n",
       "      <th>stops</th>\n",
       "      <th>duration_minutes</th>\n",
       "      <th>dep_hour</th>\n",
       "    </tr>\n",
       "  </thead>\n",
       "  <tbody>\n",
       "    <tr>\n",
       "      <th>193997</th>\n",
       "      <td>27-06-2023</td>\n",
       "      <td>Air India</td>\n",
       "      <td>AI-672</td>\n",
       "      <td>economy</td>\n",
       "      <td>Chennai</td>\n",
       "      <td>16:05</td>\n",
       "      <td>Bangalore</td>\n",
       "      <td>17:55</td>\n",
       "      <td>49h 50m</td>\n",
       "      <td>24,130</td>\n",
       "      <td>2+-stop</td>\n",
       "      <td>2990</td>\n",
       "      <td>16</td>\n",
       "    </tr>\n",
       "    <tr>\n",
       "      <th>85367</th>\n",
       "      <td>04-07-2023</td>\n",
       "      <td>AirAsia</td>\n",
       "      <td>I5-2461</td>\n",
       "      <td>economy</td>\n",
       "      <td>Bangalore</td>\n",
       "      <td>16:15</td>\n",
       "      <td>Delhi</td>\n",
       "      <td>11:50</td>\n",
       "      <td>19h 35m</td>\n",
       "      <td>7,559</td>\n",
       "      <td>2+-stop</td>\n",
       "      <td>1175</td>\n",
       "      <td>16</td>\n",
       "    </tr>\n",
       "    <tr>\n",
       "      <th>96507</th>\n",
       "      <td>11-07-2023</td>\n",
       "      <td>GO FIRST</td>\n",
       "      <td>G8-146</td>\n",
       "      <td>economy</td>\n",
       "      <td>Bangalore</td>\n",
       "      <td>05:45</td>\n",
       "      <td>Mumbai</td>\n",
       "      <td>04:15</td>\n",
       "      <td>22h 30m</td>\n",
       "      <td>5,229</td>\n",
       "      <td>1-stop</td>\n",
       "      <td>1350</td>\n",
       "      <td>5</td>\n",
       "    </tr>\n",
       "    <tr>\n",
       "      <th>176482</th>\n",
       "      <td>27-06-2023</td>\n",
       "      <td>Indigo</td>\n",
       "      <td>6E-743</td>\n",
       "      <td>economy</td>\n",
       "      <td>Hyderabad</td>\n",
       "      <td>05:40</td>\n",
       "      <td>Chennai</td>\n",
       "      <td>21:05</td>\n",
       "      <td>15h 25m</td>\n",
       "      <td>11,958</td>\n",
       "      <td>2+-stop</td>\n",
       "      <td>925</td>\n",
       "      <td>5</td>\n",
       "    </tr>\n",
       "    <tr>\n",
       "      <th>61539</th>\n",
       "      <td>26-06-2023</td>\n",
       "      <td>SpiceJet</td>\n",
       "      <td>SG-3440</td>\n",
       "      <td>economy</td>\n",
       "      <td>Mumbai</td>\n",
       "      <td>13:50</td>\n",
       "      <td>Kolkata</td>\n",
       "      <td>17:45</td>\n",
       "      <td>27h 55m</td>\n",
       "      <td>7,805</td>\n",
       "      <td>1-stop</td>\n",
       "      <td>1675</td>\n",
       "      <td>13</td>\n",
       "    </tr>\n",
       "    <tr>\n",
       "      <th>109764</th>\n",
       "      <td>27-06-2023</td>\n",
       "      <td>StarAir</td>\n",
       "      <td>S5-131</td>\n",
       "      <td>economy</td>\n",
       "      <td>Bangalore</td>\n",
       "      <td>14:35</td>\n",
       "      <td>Hyderabad</td>\n",
       "      <td>19:40</td>\n",
       "      <td>05h 05m</td>\n",
       "      <td>11,496</td>\n",
       "      <td>1-stop</td>\n",
       "      <td>305</td>\n",
       "      <td>14</td>\n",
       "    </tr>\n",
       "    <tr>\n",
       "      <th>71637</th>\n",
       "      <td>07-07-2023</td>\n",
       "      <td>Trujet</td>\n",
       "      <td>2T-518</td>\n",
       "      <td>economy</td>\n",
       "      <td>Mumbai</td>\n",
       "      <td>11:40</td>\n",
       "      <td>Hyderabad</td>\n",
       "      <td>19:00</td>\n",
       "      <td>7h 20m</td>\n",
       "      <td>3,198</td>\n",
       "      <td>1-stop</td>\n",
       "      <td>440</td>\n",
       "      <td>11</td>\n",
       "    </tr>\n",
       "    <tr>\n",
       "      <th>194034</th>\n",
       "      <td>28-06-2023</td>\n",
       "      <td>Vistara</td>\n",
       "      <td>UK-822</td>\n",
       "      <td>economy</td>\n",
       "      <td>Chennai</td>\n",
       "      <td>09:45</td>\n",
       "      <td>Bangalore</td>\n",
       "      <td>08:50</td>\n",
       "      <td>47h 05m</td>\n",
       "      <td>17,395</td>\n",
       "      <td>1-stop</td>\n",
       "      <td>2825</td>\n",
       "      <td>9</td>\n",
       "    </tr>\n",
       "  </tbody>\n",
       "</table>\n",
       "</div>"
      ],
      "text/plain": [
       "       flight date    airline flight_num    class       from dep_time  \\\n",
       "193997  27-06-2023  Air India     AI-672  economy    Chennai    16:05   \n",
       "85367   04-07-2023    AirAsia    I5-2461  economy  Bangalore    16:15   \n",
       "96507   11-07-2023   GO FIRST     G8-146  economy  Bangalore    05:45   \n",
       "176482  27-06-2023     Indigo     6E-743  economy  Hyderabad    05:40   \n",
       "61539   26-06-2023   SpiceJet    SG-3440  economy     Mumbai    13:50   \n",
       "109764  27-06-2023    StarAir     S5-131  economy  Bangalore    14:35   \n",
       "71637   07-07-2023     Trujet     2T-518  economy     Mumbai    11:40   \n",
       "194034  28-06-2023    Vistara     UK-822  economy    Chennai    09:45   \n",
       "\n",
       "               to arr_time duration   price    stops  duration_minutes  \\\n",
       "193997  Bangalore    17:55  49h 50m  24,130  2+-stop              2990   \n",
       "85367       Delhi    11:50  19h 35m   7,559  2+-stop              1175   \n",
       "96507      Mumbai    04:15  22h 30m   5,229   1-stop              1350   \n",
       "176482    Chennai    21:05  15h 25m  11,958  2+-stop               925   \n",
       "61539     Kolkata    17:45  27h 55m   7,805   1-stop              1675   \n",
       "109764  Hyderabad    19:40  05h 05m  11,496   1-stop               305   \n",
       "71637   Hyderabad    19:00   7h 20m   3,198   1-stop               440   \n",
       "194034  Bangalore    08:50  47h 05m  17,395   1-stop              2825   \n",
       "\n",
       "        dep_hour  \n",
       "193997        16  \n",
       "85367         16  \n",
       "96507          5  \n",
       "176482         5  \n",
       "61539         13  \n",
       "109764        14  \n",
       "71637         11  \n",
       "194034         9  "
      ]
     },
     "execution_count": 19,
     "metadata": {},
     "output_type": "execute_result"
    }
   ],
   "source": [
    "# longest flight by duration for each airline\n",
    "df.loc[df.groupby('airline')['duration_minutes'].idxmax()]"
   ]
  },
  {
   "cell_type": "code",
   "execution_count": 20,
   "id": "e73dc512",
   "metadata": {},
   "outputs": [
    {
     "data": {
      "text/html": [
       "<div>\n",
       "<style scoped>\n",
       "    .dataframe tbody tr th:only-of-type {\n",
       "        vertical-align: middle;\n",
       "    }\n",
       "\n",
       "    .dataframe tbody tr th {\n",
       "        vertical-align: top;\n",
       "    }\n",
       "\n",
       "    .dataframe thead th {\n",
       "        text-align: right;\n",
       "    }\n",
       "</style>\n",
       "<table border=\"1\" class=\"dataframe\">\n",
       "  <thead>\n",
       "    <tr style=\"text-align: right;\">\n",
       "      <th></th>\n",
       "      <th>duration_minutes</th>\n",
       "    </tr>\n",
       "  </thead>\n",
       "  <tbody>\n",
       "    <tr>\n",
       "      <th>duration_minutes</th>\n",
       "      <td>1.0</td>\n",
       "    </tr>\n",
       "  </tbody>\n",
       "</table>\n",
       "</div>"
      ],
      "text/plain": [
       "                  duration_minutes\n",
       "duration_minutes               1.0"
      ]
     },
     "execution_count": 20,
     "metadata": {},
     "output_type": "execute_result"
    }
   ],
   "source": [
    "# Relation between price and duration\n",
    "df[['price', 'duration_minutes']].corr()"
   ]
  },
  {
   "cell_type": "code",
   "execution_count": 21,
   "id": "d5a00f5a",
   "metadata": {},
   "outputs": [
    {
     "data": {
      "text/plain": [
       "morning      134872\n",
       "evening       76501\n",
       "afternoon     59505\n",
       "night         29383\n",
       "Name: time_of_day, dtype: int64"
      ]
     },
     "execution_count": 21,
     "metadata": {},
     "output_type": "execute_result"
    }
   ],
   "source": [
    "# Flghgts by the time of the day\n",
    "def time_of_day(dep_time):\n",
    "    hour = int(dep_time.split(':')[0])\n",
    "    if 5 <= hour < 12:\n",
    "        return 'morning'\n",
    "    elif 12 <= hour < 17:\n",
    "        return 'afternoon'\n",
    "    elif 17 <= hour < 21:\n",
    "        return 'evening'\n",
    "    else:\n",
    "        return 'night'\n",
    "\n",
    "df['time_of_day'] = df['dep_time'].apply(time_of_day)\n",
    "df['time_of_day'].value_counts()"
   ]
  },
  {
   "cell_type": "markdown",
   "id": "54e21d40",
   "metadata": {},
   "source": [
    "### Duration Analysis"
   ]
  },
  {
   "cell_type": "code",
   "execution_count": 23,
   "id": "1f28c1a9",
   "metadata": {},
   "outputs": [
    {
     "data": {
      "text/plain": [
       "flight date         11-07-2023\n",
       "airline               GO FIRST\n",
       "flight_num              G8-146\n",
       "class                  economy\n",
       "from                 Bangalore\n",
       "dep_time                 05:45\n",
       "to                      Mumbai\n",
       "arr_time                 09:10\n",
       "duration               1.03h m\n",
       "price                    5,229\n",
       "stops                   1-stop\n",
       "duration_minutes             0\n",
       "dep_hour                     5\n",
       "time_of_day            morning\n",
       "Name: 96486, dtype: object"
      ]
     },
     "execution_count": 23,
     "metadata": {},
     "output_type": "execute_result"
    }
   ],
   "source": [
    "# Shortest Flight\n",
    "df.loc[df['duration_minutes'].idxmin()]\n"
   ]
  },
  {
   "cell_type": "code",
   "execution_count": 47,
   "id": "7cd108f6",
   "metadata": {},
   "outputs": [
    {
     "data": {
      "text/plain": [
       "flight date         27-06-2023\n",
       "airline              Air India\n",
       "flight_num              AI-672\n",
       "class                  economy\n",
       "from                   Chennai\n",
       "dep_time                 16:05\n",
       "to                   Bangalore\n",
       "arr_time                 17:55\n",
       "duration               49h 50m\n",
       "price                   24,130\n",
       "stops                  2+-stop\n",
       "duration_minutes          2990\n",
       "dep_hour                    16\n",
       "time_of_day          afternoon\n",
       "Name: 193997, dtype: object"
      ]
     },
     "execution_count": 47,
     "metadata": {},
     "output_type": "execute_result"
    }
   ],
   "source": [
    "# Logest Flight\n",
    "df.loc[df['duration_minutes'].idxmax()]\n"
   ]
  },
  {
   "cell_type": "code",
   "execution_count": 24,
   "id": "e754f18f",
   "metadata": {},
   "outputs": [
    {
     "data": {
      "text/plain": [
       "airline\n",
       "Air India    2930\n",
       "AirAsia      1120\n",
       "GO FIRST     1350\n",
       "Indigo        875\n",
       "SpiceJet     1615\n",
       "StarAir       245\n",
       "Trujet        295\n",
       "Vistara      2765\n",
       "Name: duration_minutes, dtype: int64"
      ]
     },
     "execution_count": 24,
     "metadata": {},
     "output_type": "execute_result"
    }
   ],
   "source": [
    "# Difference between duration for max and min duration for each airline\n",
    "df.groupby('airline')['duration_minutes'].apply(lambda x: x.max() - x.min())\n"
   ]
  },
  {
   "cell_type": "code",
   "execution_count": 25,
   "id": "99104eab",
   "metadata": {},
   "outputs": [
    {
     "data": {
      "text/plain": [
       "from       to       \n",
       "Bangalore  Bangalore           NaN\n",
       "           Chennai      868.797972\n",
       "           Delhi        586.785766\n",
       "           Hyderabad    846.502620\n",
       "           Kolkata      785.862499\n",
       "           Mumbai       654.275116\n",
       "Chennai    Bangalore    837.163869\n",
       "           Chennai             NaN\n",
       "           Delhi        668.952775\n",
       "           Hyderabad    789.199574\n",
       "           Kolkata      870.930832\n",
       "           Mumbai       742.483401\n",
       "Delhi      Bangalore    621.237868\n",
       "           Chennai      746.049629\n",
       "           Delhi               NaN\n",
       "           Hyderabad    751.123499\n",
       "           Kolkata      764.157449\n",
       "           Mumbai       622.149304\n",
       "Hyderabad  Bangalore    722.168904\n",
       "           Chennai      797.593432\n",
       "           Delhi        649.706124\n",
       "           Hyderabad           NaN\n",
       "           Kolkata      812.109052\n",
       "           Mumbai       717.398987\n",
       "Kolkata    Bangalore    827.558021\n",
       "           Chennai      886.433940\n",
       "           Delhi        696.304493\n",
       "           Hyderabad    831.181461\n",
       "           Kolkata             NaN\n",
       "           Mumbai       779.531264\n",
       "Mumbai     Bangalore    696.703531\n",
       "           Chennai      759.973346\n",
       "           Delhi        589.067797\n",
       "           Hyderabad    795.570297\n",
       "           Kolkata      770.230122\n",
       "           Mumbai              NaN\n",
       "Name: duration_minutes, dtype: float64"
      ]
     },
     "execution_count": 25,
     "metadata": {},
     "output_type": "execute_result"
    }
   ],
   "source": [
    "# Average flight duration by route\n",
    "df.groupby(['from', 'to'])['duration_minutes'].mean()"
   ]
  },
  {
   "cell_type": "markdown",
   "id": "9d8d29f4",
   "metadata": {},
   "source": [
    "### Trend Analysis "
   ]
  },
  {
   "cell_type": "code",
   "execution_count": 26,
   "id": "776dbfa3",
   "metadata": {},
   "outputs": [
    {
     "data": {
      "text/plain": [
       "from\n",
       "Bangalore     Delhi\n",
       "Chennai       Delhi\n",
       "Delhi        Mumbai\n",
       "Hyderabad    Mumbai\n",
       "Kolkata      Mumbai\n",
       "Mumbai        Delhi\n",
       "Name: to, dtype: object"
      ]
     },
     "execution_count": 26,
     "metadata": {},
     "output_type": "execute_result"
    }
   ],
   "source": [
    "# Most Common destination\n",
    "df.groupby('from')['to'].agg(lambda x: x.value_counts().idxmax())"
   ]
  },
  {
   "cell_type": "markdown",
   "id": "9d2d5786",
   "metadata": {},
   "source": [
    "### Visualization"
   ]
  },
  {
   "cell_type": "code",
   "execution_count": 27,
   "id": "ed44baeb",
   "metadata": {},
   "outputs": [
    {
     "data": {
      "image/png": "[encoded data removed]",
      "text/plain": [
       "<Figure size 432x288 with 1 Axes>"
      ]
     },
     "metadata": {
      "needs_background": "light"
     },
     "output_type": "display_data"
    }
   ],
   "source": [
    "# Distribution of Flight Price\n",
    "df['price'] = df['price'].str.replace(',', '')\n",
    "df['price'] = df['price'].astype(int)\n",
    "df['price'].plot(kind='hist', bins=30, title='Flight Price Distribution')\n",
    "plt.xlabel('Price')\n",
    "plt.show()"
   ]
  },
  {
   "cell_type": "code",
   "execution_count": 28,
   "id": "b01e04b3",
   "metadata": {},
   "outputs": [
    {
     "data": {
      "image/png": "[encoded data removed]",
      "text/plain": [
       "<Figure size 432x288 with 1 Axes>"
      ]
     },
     "metadata": {
      "needs_background": "light"
     },
     "output_type": "display_data"
    }
   ],
   "source": [
    "# Comparison of flight prices by airlines\n",
    "sns.boxplot(data=df, x='airline', y='price')\n",
    "plt.xticks(rotation=90)\n",
    "plt.show()"
   ]
  },
  {
   "cell_type": "code",
   "execution_count": 29,
   "id": "84732f09",
   "metadata": {},
   "outputs": [
    {
     "data": {
      "image/png": "[encoded data removed]",
      "text/plain": [
       "<Figure size 432x288 with 1 Axes>"
      ]
     },
     "metadata": {
      "needs_background": "light"
     },
     "output_type": "display_data"
    }
   ],
   "source": [
    "# Number of flights for each airlines\n",
    "df['airline'].value_counts().plot(kind='bar', title='Number of Flights by Airline')\n",
    "plt.xlabel('Airline')\n",
    "plt.ylabel('Number of Flights')\n",
    "plt.show()"
   ]
  },
  {
   "cell_type": "code",
   "execution_count": 30,
   "id": "3113fa2e",
   "metadata": {},
   "outputs": [
    {
     "data": {
      "image/png": "[encoded data removed]",
      "text/plain": [
       "<Figure size 432x288 with 1 Axes>"
      ]
     },
     "metadata": {
      "needs_background": "light"
     },
     "output_type": "display_data"
    }
   ],
   "source": [
    "plt.scatter(df['duration_minutes'], df['price'])\n",
    "plt.xlabel('Duration (minutes)')\n",
    "plt.ylabel('Price')\n",
    "plt.title('Duration vs. Price')\n",
    "plt.show()"
   ]
  }
 ],
 "metadata": {
  "kernelspec": {
   "display_name": "Python 3 (ipykernel)",
   "language": "python",
   "name": "python3"
  },
  "language_info": {
   "codemirror_mode": {
    "name": "ipython",
    "version": 3
   },
   "file_extension": ".py",
   "mimetype": "text/x-python",
   "name": "python",
   "nbconvert_exporter": "python",
   "pygments_lexer": "ipython3",
   "version": "3.9.12"
  }
 },
 "nbformat": 4,
 "nbformat_minor": 5
}
